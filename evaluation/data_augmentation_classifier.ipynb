{
 "cells": [
  {
   "cell_type": "code",
   "execution_count": 1,
   "metadata": {},
   "outputs": [],
   "source": [
    "import torch\n",
    "from torch.utils.data import random_split, DataLoader\n",
    "import torch.nn as nn\n",
    "import torch.nn.functional as F\n",
    "import numpy as np\n",
    "from tqdm import tqdm\n",
    "from matplotlib import pyplot as plt\n",
    "from sklearn.metrics import classification_report\n",
    "import warnings\n",
    "warnings.filterwarnings(\"ignore\")\n",
    "torch.manual_seed(0)\n",
    "np.random.seed(0)"
   ]
  },
  {
   "cell_type": "code",
   "execution_count": 2,
   "metadata": {},
   "outputs": [],
   "source": [
    "real_normal_data = np.load(\"../eval_data/real_normal.npy\")\n",
    "real_fault_01_data = np.load(\"../eval_data/real_fault_01.npy\")\n",
    "real_fault_11_data = np.load(\"../eval_data/real_fault_11.npy\")\n",
    "real_fault_20_data = np.load(\"../eval_data/real_fault_20.npy\")\n",
    "gen_fault_01_data = np.load(\"../eval_data/gen_fault_01.npy\")\n",
    "gen_fault_11_data = np.load(\"../eval_data/gen_fault_11.npy\")\n",
    "gen_fault_20_data = np.load(\"../eval_data/gen_fault_20.npy\")"
   ]
  },
  {
   "cell_type": "code",
   "execution_count": 3,
   "metadata": {},
   "outputs": [],
   "source": [
    "class FaultDataset(torch.utils.data.Dataset):\n",
    "    def __init__(self, features, labels):\n",
    "\n",
    "        self.features = torch.tensor(features)\n",
    "        self.labels = torch.tensor(labels)\n",
    "\n",
    "    def __len__(self):\n",
    "        return len(self.features)\n",
    "\n",
    "    def __getitem__(self, idx):\n",
    "        return self.features[idx].type(torch.float32), self.labels[idx].type(torch.long)"
   ]
  },
  {
   "cell_type": "code",
   "execution_count": 4,
   "metadata": {},
   "outputs": [],
   "source": [
    "class FaultDetector(nn.Module):\n",
    "    def __init__(self, input_size=52):\n",
    "        super(FaultDetector, self).__init__()\n",
    "        self.lstm = nn.LSTM(input_size, 512, 2, batch_first=True)\n",
    "        self.fc1 = nn.LazyLinear(64)\n",
    "        self.fc2 = nn.LazyLinear(3)\n",
    "\n",
    "    def forward(self, x):\n",
    "        _, (hidden, _) = self.lstm(x)\n",
    "        x = F.relu(self.fc1(hidden[-1]))\n",
    "        x = self.fc2(x)\n",
    "        return x"
   ]
  },
  {
   "cell_type": "code",
   "execution_count": 5,
   "metadata": {},
   "outputs": [
    {
     "name": "stdout",
     "output_type": "stream",
     "text": [
      "Using device: cuda\n"
     ]
    }
   ],
   "source": [
    "epochs = 2000\n",
    "lr = 1e-5\n",
    "batch_size = 128\n",
    "train_valid_ratio = 0.9\n",
    "num_test_per_fault_class = 100\n",
    "num_samples_for_imbalanced_class = 50\n",
    "criterion = nn.CrossEntropyLoss()\n",
    "device = torch.device(\"cuda\" if torch.cuda.is_available() else \"cpu\")\n",
    "print(f\"Using device: {device}\")"
   ]
  },
  {
   "cell_type": "code",
   "execution_count": 6,
   "metadata": {},
   "outputs": [],
   "source": [
    "def train_model(model, optimizer, criterion, train_loader, valid_loader, epochs):\n",
    "    pbar = tqdm(range(epochs), leave=True)\n",
    "    best_validation_loss = np.inf\n",
    "    best_model = model.state_dict()\n",
    "    train_loss_list = []\n",
    "    valid_loss_list = []\n",
    "    for epoch in pbar:\n",
    "        model.train()\n",
    "        running_loss = 0.0\n",
    "        for bidx, batch in enumerate(train_loader):\n",
    "            features, labels = batch\n",
    "            features, labels = features.to(device), labels.to(device)\n",
    "            optimizer.zero_grad()\n",
    "            output = model(features)\n",
    "            output = output.squeeze(dim=-1)\n",
    "            loss = criterion(output, labels)\n",
    "            loss.backward()\n",
    "            optimizer.step()\n",
    "            running_loss += loss.item()\n",
    " \n",
    "        train_loss = running_loss / len(train_loader.dataset)\n",
    "        train_loss_list.append(train_loss)\n",
    "\n",
    "        model.eval()\n",
    "        with torch.no_grad():\n",
    "            valid_predictions = []\n",
    "            valid_gt = []\n",
    "            running_validation_loss = 0.0\n",
    "            for bidx, batch in enumerate(valid_loader):\n",
    "                features, labels = batch\n",
    "                features, labels = features.to(device), labels.to(device)\n",
    "                output = model(features)\n",
    "                output = output.squeeze(dim=-1)\n",
    "                loss = criterion(output, labels)\n",
    "                running_validation_loss += loss.item()\n",
    "                output = torch.argmax(output, dim=-1)\n",
    "                valid_predictions.extend(output.cpu().detach().numpy())\n",
    "                valid_gt.extend(labels.cpu().detach().numpy())\n",
    "            validation_loss = running_validation_loss / len(valid_loader.dataset)\n",
    "            valid_loss_list.append(validation_loss)\n",
    "\n",
    "            if validation_loss < best_validation_loss:\n",
    "                best_model = model.state_dict()\n",
    "        \n",
    "        train_loss = running_loss / len(train_loader.dataset)\n",
    "        acc = np.mean(valid_predictions == valid_gt)\n",
    "        pbar.set_postfix(train_loss=train_loss, validation_loss=validation_loss, validation_acc=acc)\n",
    "\n",
    "    train_predictions = []\n",
    "    train_gt = []\n",
    "    model.eval()\n",
    "    with torch.no_grad():\n",
    "        for bidx, batch in enumerate(train_loader):\n",
    "            features, labels = batch\n",
    "            features, labels = features.to(device), labels.to(device)\n",
    "            optimizer.zero_grad()\n",
    "            output = model(features)\n",
    "            output = output.squeeze(dim=-1)\n",
    "            output = torch.argmax(output, dim=-1)\n",
    "            train_predictions.extend(output.cpu().detach().numpy())\n",
    "            train_gt.extend(labels.cpu().detach().numpy())\n",
    "\n",
    "\n",
    "    model.load_state_dict(best_model)\n",
    "    train_report = classification_report(train_gt, train_predictions, target_names=[\"fault_01\", \"fault_11\", \"fault_20\"], output_dict=False)\n",
    "    valid_report = classification_report(valid_gt, valid_predictions, target_names=[\"fault_01\", \"fault_11\", \"fault_20\"], output_dict=False)\n",
    "\n",
    "    return train_loss_list, valid_loss_list, train_report, valid_report"
   ]
  },
  {
   "cell_type": "code",
   "execution_count": 7,
   "metadata": {},
   "outputs": [],
   "source": [
    "def test_model(model, criterion, test_loader):\n",
    "    with torch.no_grad():\n",
    "        model.eval()\n",
    "        running_loss = 0.0\n",
    "        predictions = []\n",
    "        gt = []\n",
    "        for bidx, batch in enumerate(test_loader):\n",
    "            features, labels = batch\n",
    "            features, labels = features.to(device), labels.to(device)\n",
    "            output = model(features)\n",
    "            output = output.squeeze(dim=-1)\n",
    "            loss = criterion(output, labels)\n",
    "            running_loss += loss.item()\n",
    "            output = torch.argmax(output, dim=-1)\n",
    "            predictions.extend(output.cpu().detach().numpy())\n",
    "            gt.extend(labels.cpu().detach().numpy())\n",
    "        avg_loss = running_loss / len(test_loader.dataset)\n",
    "        report = classification_report(gt, predictions, target_names=[\"fault_01\", \"fault_11\", \"fault_20\"], output_dict=False)\n",
    "        return avg_loss, report"
   ]
  },
  {
   "cell_type": "code",
   "execution_count": 8,
   "metadata": {},
   "outputs": [],
   "source": [
    "test_features = np.concatenate([real_fault_01_data[-num_test_per_fault_class:], real_fault_11_data[-num_test_per_fault_class:], real_fault_20_data[-num_test_per_fault_class:]])\n",
    "test_labels = [[i]*num_test_per_fault_class for i in range(3)]\n",
    "test_labels = np.concatenate(test_labels)\n",
    "test_dataset = FaultDataset(test_features, test_labels)\n",
    "test_loader = DataLoader(test_dataset, batch_size=batch_size, shuffle=False)"
   ]
  },
  {
   "cell_type": "code",
   "execution_count": 9,
   "metadata": {},
   "outputs": [
    {
     "name": "stdout",
     "output_type": "stream",
     "text": [
      "300 300 50\n"
     ]
    },
    {
     "name": "stderr",
     "output_type": "stream",
     "text": [
      "100%|██████████| 2000/2000 [15:59<00:00,  2.08it/s, train_loss=1.41e-7, validation_acc=1, validation_loss=2.49e-7] \n"
     ]
    },
    {
     "name": "stdout",
     "output_type": "stream",
     "text": [
      "300 300 100\n"
     ]
    },
    {
     "name": "stderr",
     "output_type": "stream",
     "text": [
      "100%|██████████| 2000/2000 [17:56<00:00,  1.86it/s, train_loss=2.84e-7, validation_acc=1, validation_loss=4.95e-7] \n"
     ]
    },
    {
     "name": "stdout",
     "output_type": "stream",
     "text": [
      "300 300 150\n"
     ]
    },
    {
     "name": "stderr",
     "output_type": "stream",
     "text": [
      "100%|██████████| 2000/2000 [19:55<00:00,  1.67it/s, train_loss=3.49e-7, validation_acc=1, validation_loss=5.2e-7]  \n"
     ]
    },
    {
     "name": "stdout",
     "output_type": "stream",
     "text": [
      "300 300 200\n"
     ]
    },
    {
     "name": "stderr",
     "output_type": "stream",
     "text": [
      "100%|██████████| 2000/2000 [19:34<00:00,  1.70it/s, train_loss=0.000167, validation_acc=1, validation_loss=0.000259]\n"
     ]
    },
    {
     "name": "stdout",
     "output_type": "stream",
     "text": [
      "300 300 250\n"
     ]
    },
    {
     "name": "stderr",
     "output_type": "stream",
     "text": [
      "100%|██████████| 2000/2000 [20:42<00:00,  1.61it/s, train_loss=6.24e-7, validation_acc=1, validation_loss=9.69e-7] \n"
     ]
    },
    {
     "name": "stdout",
     "output_type": "stream",
     "text": [
      "300 300 300\n"
     ]
    },
    {
     "name": "stderr",
     "output_type": "stream",
     "text": [
      "100%|██████████| 2000/2000 [22:27<00:00,  1.48it/s, train_loss=2.6e-5, validation_acc=1, validation_loss=3.22e-5]   \n"
     ]
    }
   ],
   "source": [
    "augmented_class_split = []\n",
    "augmented_train_metrics_list = []\n",
    "augmented_test_metrics_list = []\n",
    "num_train_per_fault_class = len(real_fault_01_data) - num_test_per_fault_class\n",
    "for i in range(50, num_train_per_fault_class+1, 50):\n",
    "    train_features = np.concatenate([real_fault_01_data[:num_train_per_fault_class], real_fault_11_data[:num_train_per_fault_class], real_fault_20_data[:num_samples_for_imbalanced_class], gen_fault_20_data[:i-num_samples_for_imbalanced_class]])\n",
    "    train_labels = [[i]*num_train_per_fault_class for i in range(2)]\n",
    "    train_labels.append([2]*(i))\n",
    "    train_labels = np.concatenate(train_labels)\n",
    "    print(np.sum(train_labels == 0), np.sum(train_labels == 1), np.sum(train_labels == 2))\n",
    "    augmented_class_split.append(f\"({num_train_per_fault_class}, {num_train_per_fault_class}, {num_samples_for_imbalanced_class} + {i-num_samples_for_imbalanced_class})\")\n",
    "    train_dataset = FaultDataset(train_features, train_labels)\n",
    "    train_size = int(len(train_dataset) * train_valid_ratio)\n",
    "    valid_size = len(train_dataset) - train_size\n",
    "    train_dataset, valid_dataset = random_split(train_dataset, [train_size, valid_size])\n",
    "    train_loader = DataLoader(train_dataset, batch_size=batch_size, shuffle=True)\n",
    "    valid_loader = DataLoader(valid_dataset, batch_size=batch_size, shuffle=False)\n",
    "    \n",
    "    model = FaultDetector()\n",
    "    model = model.to(device)\n",
    "    optimizer = torch.optim.Adam(model.parameters(), lr=lr)\n",
    "    train_metrics = train_model(model, optimizer, criterion, train_loader, valid_loader, epochs)\n",
    "    test_metrics = test_model(model, criterion, test_loader)\n",
    "    augmented_train_metrics_list.append(train_metrics)\n",
    "    augmented_test_metrics_list.append(test_metrics)"
   ]
  },
  {
   "cell_type": "code",
   "execution_count": 10,
   "metadata": {},
   "outputs": [
    {
     "name": "stdout",
     "output_type": "stream",
     "text": [
      "#################################\n",
      "Split (300, 300, 50 + 0)\n",
      "              precision    recall  f1-score   support\n",
      "\n",
      "    fault_01       1.00      1.00      1.00       280\n",
      "    fault_11       1.00      1.00      1.00       259\n",
      "    fault_20       1.00      1.00      1.00        46\n",
      "\n",
      "    accuracy                           1.00       585\n",
      "   macro avg       1.00      1.00      1.00       585\n",
      "weighted avg       1.00      1.00      1.00       585\n",
      "\n",
      "              precision    recall  f1-score   support\n",
      "\n",
      "    fault_01       1.00      1.00      1.00        20\n",
      "    fault_11       1.00      1.00      1.00        41\n",
      "    fault_20       1.00      1.00      1.00         4\n",
      "\n",
      "    accuracy                           1.00        65\n",
      "   macro avg       1.00      1.00      1.00        65\n",
      "weighted avg       1.00      1.00      1.00        65\n",
      "\n",
      "              precision    recall  f1-score   support\n",
      "\n",
      "    fault_01       1.00      1.00      1.00       100\n",
      "    fault_11       0.74      1.00      0.85       100\n",
      "    fault_20       1.00      0.65      0.79       100\n",
      "\n",
      "    accuracy                           0.88       300\n",
      "   macro avg       0.91      0.88      0.88       300\n",
      "weighted avg       0.91      0.88      0.88       300\n",
      "\n",
      "#################################\n",
      "#################################\n",
      "Split (300, 300, 50 + 50)\n",
      "              precision    recall  f1-score   support\n",
      "\n",
      "    fault_01       1.00      1.00      1.00       269\n",
      "    fault_11       1.00      1.00      1.00       270\n",
      "    fault_20       1.00      1.00      1.00        91\n",
      "\n",
      "    accuracy                           1.00       630\n",
      "   macro avg       1.00      1.00      1.00       630\n",
      "weighted avg       1.00      1.00      1.00       630\n",
      "\n",
      "              precision    recall  f1-score   support\n",
      "\n",
      "    fault_01       1.00      1.00      1.00        31\n",
      "    fault_11       1.00      1.00      1.00        30\n",
      "    fault_20       1.00      1.00      1.00         9\n",
      "\n",
      "    accuracy                           1.00        70\n",
      "   macro avg       1.00      1.00      1.00        70\n",
      "weighted avg       1.00      1.00      1.00        70\n",
      "\n",
      "              precision    recall  f1-score   support\n",
      "\n",
      "    fault_01       1.00      1.00      1.00       100\n",
      "    fault_11       0.79      1.00      0.88       100\n",
      "    fault_20       1.00      0.74      0.85       100\n",
      "\n",
      "    accuracy                           0.91       300\n",
      "   macro avg       0.93      0.91      0.91       300\n",
      "weighted avg       0.93      0.91      0.91       300\n",
      "\n",
      "#################################\n",
      "#################################\n",
      "Split (300, 300, 50 + 100)\n",
      "              precision    recall  f1-score   support\n",
      "\n",
      "    fault_01       1.00      1.00      1.00       269\n",
      "    fault_11       1.00      1.00      1.00       272\n",
      "    fault_20       1.00      1.00      1.00       134\n",
      "\n",
      "    accuracy                           1.00       675\n",
      "   macro avg       1.00      1.00      1.00       675\n",
      "weighted avg       1.00      1.00      1.00       675\n",
      "\n",
      "              precision    recall  f1-score   support\n",
      "\n",
      "    fault_01       1.00      1.00      1.00        31\n",
      "    fault_11       1.00      1.00      1.00        28\n",
      "    fault_20       1.00      1.00      1.00        16\n",
      "\n",
      "    accuracy                           1.00        75\n",
      "   macro avg       1.00      1.00      1.00        75\n",
      "weighted avg       1.00      1.00      1.00        75\n",
      "\n",
      "              precision    recall  f1-score   support\n",
      "\n",
      "    fault_01       1.00      1.00      1.00       100\n",
      "    fault_11       0.88      1.00      0.93       100\n",
      "    fault_20       1.00      0.86      0.92       100\n",
      "\n",
      "    accuracy                           0.95       300\n",
      "   macro avg       0.96      0.95      0.95       300\n",
      "weighted avg       0.96      0.95      0.95       300\n",
      "\n",
      "#################################\n",
      "#################################\n",
      "Split (300, 300, 50 + 150)\n",
      "              precision    recall  f1-score   support\n",
      "\n",
      "    fault_01       1.00      1.00      1.00       274\n",
      "    fault_11       1.00      1.00      1.00       268\n",
      "    fault_20       1.00      1.00      1.00       178\n",
      "\n",
      "    accuracy                           1.00       720\n",
      "   macro avg       1.00      1.00      1.00       720\n",
      "weighted avg       1.00      1.00      1.00       720\n",
      "\n",
      "              precision    recall  f1-score   support\n",
      "\n",
      "    fault_01       1.00      1.00      1.00        26\n",
      "    fault_11       1.00      1.00      1.00        32\n",
      "    fault_20       1.00      1.00      1.00        22\n",
      "\n",
      "    accuracy                           1.00        80\n",
      "   macro avg       1.00      1.00      1.00        80\n",
      "weighted avg       1.00      1.00      1.00        80\n",
      "\n",
      "              precision    recall  f1-score   support\n",
      "\n",
      "    fault_01       1.00      1.00      1.00       100\n",
      "    fault_11       0.91      1.00      0.95       100\n",
      "    fault_20       1.00      0.90      0.95       100\n",
      "\n",
      "    accuracy                           0.97       300\n",
      "   macro avg       0.97      0.97      0.97       300\n",
      "weighted avg       0.97      0.97      0.97       300\n",
      "\n",
      "#################################\n",
      "#################################\n",
      "Split (300, 300, 50 + 200)\n",
      "              precision    recall  f1-score   support\n",
      "\n",
      "    fault_01       1.00      1.00      1.00       266\n",
      "    fault_11       1.00      1.00      1.00       275\n",
      "    fault_20       1.00      1.00      1.00       224\n",
      "\n",
      "    accuracy                           1.00       765\n",
      "   macro avg       1.00      1.00      1.00       765\n",
      "weighted avg       1.00      1.00      1.00       765\n",
      "\n",
      "              precision    recall  f1-score   support\n",
      "\n",
      "    fault_01       1.00      1.00      1.00        34\n",
      "    fault_11       1.00      1.00      1.00        25\n",
      "    fault_20       1.00      1.00      1.00        26\n",
      "\n",
      "    accuracy                           1.00        85\n",
      "   macro avg       1.00      1.00      1.00        85\n",
      "weighted avg       1.00      1.00      1.00        85\n",
      "\n",
      "              precision    recall  f1-score   support\n",
      "\n",
      "    fault_01       1.00      1.00      1.00       100\n",
      "    fault_11       0.93      0.93      0.93       100\n",
      "    fault_20       0.93      0.93      0.93       100\n",
      "\n",
      "    accuracy                           0.95       300\n",
      "   macro avg       0.95      0.95      0.95       300\n",
      "weighted avg       0.95      0.95      0.95       300\n",
      "\n",
      "#################################\n",
      "#################################\n",
      "Split (300, 300, 50 + 250)\n",
      "              precision    recall  f1-score   support\n",
      "\n",
      "    fault_01       1.00      1.00      1.00       273\n",
      "    fault_11       1.00      1.00      1.00       270\n",
      "    fault_20       1.00      1.00      1.00       267\n",
      "\n",
      "    accuracy                           1.00       810\n",
      "   macro avg       1.00      1.00      1.00       810\n",
      "weighted avg       1.00      1.00      1.00       810\n",
      "\n",
      "              precision    recall  f1-score   support\n",
      "\n",
      "    fault_01       1.00      1.00      1.00        27\n",
      "    fault_11       1.00      1.00      1.00        30\n",
      "    fault_20       1.00      1.00      1.00        33\n",
      "\n",
      "    accuracy                           1.00        90\n",
      "   macro avg       1.00      1.00      1.00        90\n",
      "weighted avg       1.00      1.00      1.00        90\n",
      "\n",
      "              precision    recall  f1-score   support\n",
      "\n",
      "    fault_01       1.00      1.00      1.00       100\n",
      "    fault_11       0.95      0.98      0.97       100\n",
      "    fault_20       0.98      0.95      0.96       100\n",
      "\n",
      "    accuracy                           0.98       300\n",
      "   macro avg       0.98      0.98      0.98       300\n",
      "weighted avg       0.98      0.98      0.98       300\n",
      "\n",
      "#################################\n"
     ]
    }
   ],
   "source": [
    "for i in range(len(augmented_train_metrics_list)):\n",
    "    print(f\"#################################\")\n",
    "    print(f\"Split {augmented_class_split[i]}\")\n",
    "    print(augmented_train_metrics_list[i][-2])\n",
    "    print(augmented_train_metrics_list[i][-1])\n",
    "    print(augmented_test_metrics_list[i][-1])\n",
    "    print(f\"#################################\")"
   ]
  }
 ],
 "metadata": {
  "kernelspec": {
   "display_name": "base",
   "language": "python",
   "name": "python3"
  },
  "language_info": {
   "codemirror_mode": {
    "name": "ipython",
    "version": 3
   },
   "file_extension": ".py",
   "mimetype": "text/x-python",
   "name": "python",
   "nbconvert_exporter": "python",
   "pygments_lexer": "ipython3",
   "version": "3.10.13"
  }
 },
 "nbformat": 4,
 "nbformat_minor": 2
}
